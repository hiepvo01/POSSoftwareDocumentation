{
 "metadata": {
  "language_info": {
   "codemirror_mode": {
    "name": "ipython",
    "version": 3
   },
   "file_extension": ".py",
   "mimetype": "text/x-python",
   "name": "python",
   "nbconvert_exporter": "python",
   "pygments_lexer": "ipython3",
   "version": "3.9.5"
  },
  "orig_nbformat": 4,
  "kernelspec": {
   "name": "python3",
   "display_name": "Python 3.9.5 64-bit ('.venv': venv)"
  },
  "interpreter": {
   "hash": "5ce54bfb35255c193614c92cd62fcbc477af97e5185433b90f307c32116c2c82"
  }
 },
 "nbformat": 4,
 "nbformat_minor": 2,
 "cells": [
  {
   "source": [
    "# POS taggers NLTK and StanfordNLP"
   ],
   "cell_type": "markdown",
   "metadata": {}
  },
  {
   "source": [
    "## NLTK"
   ],
   "cell_type": "markdown",
   "metadata": {}
  },
  {
   "source": [
    "### Read in Data"
   ],
   "cell_type": "markdown",
   "metadata": {}
  },
  {
   "cell_type": "code",
   "execution_count": 31,
   "metadata": {},
   "outputs": [],
   "source": [
    "import pandas as pd\n",
    "import re\n",
    "import string\n",
    "import nltk\n",
    "import dill\n",
    "from bs4 import BeautifulSoup\n",
    "import warnings\n",
    "warnings.filterwarnings(\"ignore\", category=UserWarning, module='bs4')\n",
    "\n",
    "# pd.set_option('display.max_colwidth', 100)\n",
    "\n",
    "stopwords = nltk.corpus.stopwords.words('english')\n",
    "# ps = nltk.PorterStemmer()\n",
    "wn = nltk.WordNetLemmatizer()\n",
    "\n",
    "data = pd.read_csv(\"dataset/bamboo.csv\")\n",
    "# data.columns = ['title', 'description']"
   ]
  },
  {
   "cell_type": "code",
   "execution_count": 32,
   "metadata": {},
   "outputs": [
    {
     "output_type": "execute_result",
     "data": {
      "text/plain": [
       "   issuekey                                              title  \\\n",
       "0    BAM-65  Allows CVS repo to timeout and report on locki...   \n",
       "1   BAM-932  allow a build to be placed at the head of the ...   \n",
       "2  BAM-3476               Result not saved when checkout fails   \n",
       "3  BAM-3612  Talkback from elastic agent to bamboo server t...   \n",
       "4  BAM-3616  Users can see the maven module (groupid, artif...   \n",
       "\n",
       "                                         description  storypoint  \n",
       "0  Sometimes, when you perform a CVS action you g...           3  \n",
       "1                                                NaN           2  \n",
       "2  Happened yesterday on our hosted bamboo: https...           2  \n",
       "3  When an elastic instance/agent is configured t...           2  \n",
       "4  * Should respect the sub-working directory. On...           5  "
      ],
      "text/html": "<div>\n<style scoped>\n    .dataframe tbody tr th:only-of-type {\n        vertical-align: middle;\n    }\n\n    .dataframe tbody tr th {\n        vertical-align: top;\n    }\n\n    .dataframe thead th {\n        text-align: right;\n    }\n</style>\n<table border=\"1\" class=\"dataframe\">\n  <thead>\n    <tr style=\"text-align: right;\">\n      <th></th>\n      <th>issuekey</th>\n      <th>title</th>\n      <th>description</th>\n      <th>storypoint</th>\n    </tr>\n  </thead>\n  <tbody>\n    <tr>\n      <th>0</th>\n      <td>BAM-65</td>\n      <td>Allows CVS repo to timeout and report on locki...</td>\n      <td>Sometimes, when you perform a CVS action you g...</td>\n      <td>3</td>\n    </tr>\n    <tr>\n      <th>1</th>\n      <td>BAM-932</td>\n      <td>allow a build to be placed at the head of the ...</td>\n      <td>NaN</td>\n      <td>2</td>\n    </tr>\n    <tr>\n      <th>2</th>\n      <td>BAM-3476</td>\n      <td>Result not saved when checkout fails</td>\n      <td>Happened yesterday on our hosted bamboo: https...</td>\n      <td>2</td>\n    </tr>\n    <tr>\n      <th>3</th>\n      <td>BAM-3612</td>\n      <td>Talkback from elastic agent to bamboo server t...</td>\n      <td>When an elastic instance/agent is configured t...</td>\n      <td>2</td>\n    </tr>\n    <tr>\n      <th>4</th>\n      <td>BAM-3616</td>\n      <td>Users can see the maven module (groupid, artif...</td>\n      <td>* Should respect the sub-working directory. On...</td>\n      <td>5</td>\n    </tr>\n  </tbody>\n</table>\n</div>"
     },
     "metadata": {},
     "execution_count": 32
    }
   ],
   "source": [
    "data.head()"
   ]
  },
  {
   "source": [
    "### Create function to remove punctuation, tokenize, remove stopwords, and stem\n",
    "### Create function to calculate the processing time"
   ],
   "cell_type": "markdown",
   "metadata": {}
  },
  {
   "cell_type": "code",
   "execution_count": 33,
   "metadata": {},
   "outputs": [],
   "source": [
    "import time\n",
    "import re\n",
    "\n",
    "# Function to clean HTML tags\n",
    "# def cleanhtml(raw_html):\n",
    "#   cleanr = re.compile('<.*?>|&([a-z0-9]+|#[0-9]{1,6}|#x[0-9a-f]{1,6});')\n",
    "#   cleantext = re.sub(cleanr, '', raw_html)\n",
    "#   return cleantext\n",
    "\n",
    "def clean_text(text):\n",
    "    try:\n",
    "        text = BeautifulSoup(text).text\n",
    "        text  = text.replace('{html}', '')\n",
    "        text = \"\".join([word.lower() for word in text if word not in string.punctuation])\n",
    "        tokens = re.split('\\W+', text)\n",
    "        # text = [ps.stem(word) for word in tokens if word not in stopwords]\n",
    "        text = [wn.lemmatize(word) for word in tokens if word not in stopwords]\n",
    "        \n",
    "        trial = \"\"\n",
    "        for t in text:\n",
    "            trial = trial + t + \" \"\n",
    "        text = nltk.word_tokenize(trial)\n",
    "        new_text = nltk.pos_tag(text)\n",
    "\n",
    "        return new_text\n",
    "    except:\n",
    "        return \"\"\n",
    "\n",
    "def clean_text_time(text):\n",
    "    start_time = time.time()\n",
    "    clean_text(text)\n",
    "    return time.time() - start_time"
   ]
  },
  {
   "cell_type": "code",
   "execution_count": 34,
   "metadata": {
    "tags": []
   },
   "outputs": [
    {
     "output_type": "execute_result",
     "data": {
      "text/plain": [
       "   issuekey                                              title  \\\n",
       "0    BAM-65  Allows CVS repo to timeout and report on locki...   \n",
       "1   BAM-932  allow a build to be placed at the head of the ...   \n",
       "2  BAM-3476               Result not saved when checkout fails   \n",
       "3  BAM-3612  Talkback from elastic agent to bamboo server t...   \n",
       "4  BAM-3616  Users can see the maven module (groupid, artif...   \n",
       "\n",
       "                                         description  storypoint  \\\n",
       "0  Sometimes, when you perform a CVS action you g...           3   \n",
       "1                                                NaN           2   \n",
       "2  Happened yesterday on our hosted bamboo: https...           2   \n",
       "3  When an elastic instance/agent is configured t...           2   \n",
       "4  * Should respect the sub-working directory. On...           5   \n",
       "\n",
       "                                         title_clean  title_clean_time  \\\n",
       "0  [(allows, NNS), (cv, VBP), (repo, VB), (timeou...          0.001034   \n",
       "1  [(allow, JJ), (build, NN), (placed, VBN), (hea...          0.001992   \n",
       "2  [(result, NN), (saved, VBD), (checkout, NN), (...          0.000000   \n",
       "3  [(talkback, NN), (elastic, JJ), (agent, NN), (...          0.001993   \n",
       "4  [(user, NN), (see, VB), (maven, JJ), (module, ...          0.000998   \n",
       "\n",
       "                                   description_clean  description_clean_time  \n",
       "0  [(sometimes, RB), (perform, VB), (cv, JJ), (ac...                0.001997  \n",
       "1                                                                   0.000995  \n",
       "2  [(happened, VBN), (yesterday, NN), (hosted, VB...                0.028905  \n",
       "3  [(elastic, JJ), (instanceagent, NN), (configur...                0.002014  \n",
       "4  [(respect, NN), (subworking, VBG), (directory,...                0.001985  "
      ],
      "text/html": "<div>\n<style scoped>\n    .dataframe tbody tr th:only-of-type {\n        vertical-align: middle;\n    }\n\n    .dataframe tbody tr th {\n        vertical-align: top;\n    }\n\n    .dataframe thead th {\n        text-align: right;\n    }\n</style>\n<table border=\"1\" class=\"dataframe\">\n  <thead>\n    <tr style=\"text-align: right;\">\n      <th></th>\n      <th>issuekey</th>\n      <th>title</th>\n      <th>description</th>\n      <th>storypoint</th>\n      <th>title_clean</th>\n      <th>title_clean_time</th>\n      <th>description_clean</th>\n      <th>description_clean_time</th>\n    </tr>\n  </thead>\n  <tbody>\n    <tr>\n      <th>0</th>\n      <td>BAM-65</td>\n      <td>Allows CVS repo to timeout and report on locki...</td>\n      <td>Sometimes, when you perform a CVS action you g...</td>\n      <td>3</td>\n      <td>[(allows, NNS), (cv, VBP), (repo, VB), (timeou...</td>\n      <td>0.001034</td>\n      <td>[(sometimes, RB), (perform, VB), (cv, JJ), (ac...</td>\n      <td>0.001997</td>\n    </tr>\n    <tr>\n      <th>1</th>\n      <td>BAM-932</td>\n      <td>allow a build to be placed at the head of the ...</td>\n      <td>NaN</td>\n      <td>2</td>\n      <td>[(allow, JJ), (build, NN), (placed, VBN), (hea...</td>\n      <td>0.001992</td>\n      <td></td>\n      <td>0.000995</td>\n    </tr>\n    <tr>\n      <th>2</th>\n      <td>BAM-3476</td>\n      <td>Result not saved when checkout fails</td>\n      <td>Happened yesterday on our hosted bamboo: https...</td>\n      <td>2</td>\n      <td>[(result, NN), (saved, VBD), (checkout, NN), (...</td>\n      <td>0.000000</td>\n      <td>[(happened, VBN), (yesterday, NN), (hosted, VB...</td>\n      <td>0.028905</td>\n    </tr>\n    <tr>\n      <th>3</th>\n      <td>BAM-3612</td>\n      <td>Talkback from elastic agent to bamboo server t...</td>\n      <td>When an elastic instance/agent is configured t...</td>\n      <td>2</td>\n      <td>[(talkback, NN), (elastic, JJ), (agent, NN), (...</td>\n      <td>0.001993</td>\n      <td>[(elastic, JJ), (instanceagent, NN), (configur...</td>\n      <td>0.002014</td>\n    </tr>\n    <tr>\n      <th>4</th>\n      <td>BAM-3616</td>\n      <td>Users can see the maven module (groupid, artif...</td>\n      <td>* Should respect the sub-working directory. On...</td>\n      <td>5</td>\n      <td>[(user, NN), (see, VB), (maven, JJ), (module, ...</td>\n      <td>0.000998</td>\n      <td>[(respect, NN), (subworking, VBG), (directory,...</td>\n      <td>0.001985</td>\n    </tr>\n  </tbody>\n</table>\n</div>"
     },
     "metadata": {},
     "execution_count": 34
    }
   ],
   "source": [
    "data['title_clean'] = data['title'].apply(lambda x: clean_text(x))\n",
    "data['title_clean_time'] = data['title'].apply(lambda x: clean_text_time(x))\n",
    "\n",
    "data['description_clean'] = data['description'].apply(lambda x: clean_text(x))\n",
    "data['description_clean_time'] = data['description'].apply(lambda x: clean_text_time(x))\n",
    "\n",
    "data.head()"
   ]
  },
  {
   "cell_type": "code",
   "execution_count": 35,
   "metadata": {},
   "outputs": [
    {
     "output_type": "stream",
     "name": "stdout",
     "text": [
      "[('Sometimes', 'RB'), (',', ','), ('when', 'WRB'), ('you', 'PRP'), ('perform', 'VBP'), ('a', 'DT'), ('CVS', 'NNP'), ('action', 'NN'), ('you', 'PRP'), ('get', 'VBP'), ('something', 'NN'), ('like', 'IN'), ('{', '('), ('noformat', 'JJ'), ('}', ')'), ('cvs', 'JJ'), ('update', 'JJ'), (':', ':'), ('[', 'JJ'), ('01:38:32', 'CD'), (']', 'NN'), ('waiting', 'VBG'), ('for', 'IN'), ('mchai', 'NN'), (\"'s\", 'POS'), ('lock', 'NN'), ('in', 'IN'), ('/cvsroot/atlassian/maven2test/bamboo', 'NNP'), ('{', '('), ('noformat', 'JJ'), ('}', ')'), ('so', 'IN'), ('Bamboo', 'NNP'), ('would', 'MD'), ('probably', 'RB'), ('just', 'RB'), ('hang', 'NN'), ('and', 'CC'), ('become', 'VB'), ('not', 'RB'), ('so', 'RB'), ('happy', 'JJ'), ('.', '.'), ('We', 'PRP'), ('should', 'MD'), ('allow', 'VB'), ('Bamboo', 'NNP'), ('to', 'TO'), ('timeout', 'VB'), (',', ','), ('or', 'CC'), ('conditionally', 'RB'), ('stop', 'JJ'), ('and', 'CC'), ('tell', 'VB'), ('the', 'DT'), ('user', 'NN'), ('how', 'WRB'), ('to', 'TO'), ('dix', 'VB'), ('the', 'DT'), ('problem', 'NN')]\nThis line took 0.0039882659912109375 to process\n"
     ]
    }
   ],
   "source": [
    "start_time = time.time()\n",
    "text = nltk.word_tokenize(data[\"description\"][0])\n",
    "print(nltk.pos_tag(text))\n",
    "print(\"This line took\", time.time() - start_time, \"to process\")"
   ]
  },
  {
   "source": [
    "### Process all files and add to one dataframe"
   ],
   "cell_type": "markdown",
   "metadata": {}
  },
  {
   "cell_type": "code",
   "execution_count": 36,
   "metadata": {},
   "outputs": [
    {
     "output_type": "stream",
     "name": "stdout",
     "text": [
      "['appceleratorstudio.csv', 'aptanastudio.csv', 'bamboo.csv', 'clover.csv', 'datamanagement.csv', 'duracloud.csv', 'jirasoftware.csv', 'mesos.csv', 'moodle.csv', 'mule.csv', 'mulestudio.csv', 'springxd.csv', 'talenddataquality.csv', 'talendesb.csv', 'titanium.csv', 'usergrid.csv']\n"
     ]
    }
   ],
   "source": [
    "import os\n",
    "print(os.listdir(\"dataset/\"))"
   ]
  },
  {
   "cell_type": "code",
   "execution_count": 37,
   "metadata": {},
   "outputs": [],
   "source": [
    "def process_csv(file_path):\n",
    "    start_time = time.time()\n",
    "    data = pd.read_csv(\"dataset/\" + file_path)\n",
    "    data['title_clean'] = data['title'].apply(lambda x: clean_text(x))\n",
    "    data['title_clean_time'] = data['title'].apply(lambda x: clean_text_time(x))\n",
    "\n",
    "    data['description_clean'] = data['description'].apply(lambda x: clean_text(x))\n",
    "    data['description_clean_time'] = data['description'].apply(lambda x: clean_text_time(x))\n",
    "\n",
    "    print(file_path, \"took\", time.time() - start_time, \"to process\")\n",
    "    return data"
   ]
  },
  {
   "cell_type": "code",
   "execution_count": 38,
   "metadata": {},
   "outputs": [
    {
     "output_type": "stream",
     "name": "stdout",
     "text": [
      "appceleratorstudio.csv took 28.312107801437378 to process\n",
      "aptanastudio.csv took 7.734134197235107 to process\n",
      "bamboo.csv took 4.115949392318726 to process\n",
      "clover.csv took 3.5108416080474854 to process\n",
      "datamanagement.csv took 27.41869831085205 to process\n",
      "duracloud.csv took 4.368311643600464 to process\n",
      "jirasoftware.csv took 2.713761329650879 to process\n",
      "mesos.csv took 24.30996823310852 to process\n",
      "moodle.csv took 8.780513286590576 to process\n",
      "mule.csv took 6.042836904525757 to process\n",
      "mulestudio.csv took 6.100674390792847 to process\n",
      "springxd.csv took 24.808610677719116 to process\n",
      "talenddataquality.csv took 10.10485029220581 to process\n",
      "talendesb.csv took 7.940077781677246 to process\n",
      "titanium.csv took 27.105464935302734 to process\n",
      "usergrid.csv took 3.050839424133301 to process\n"
     ]
    }
   ],
   "source": [
    "df = pd.DataFrame(columns=['issuekey', 'title', 'description', 'storypoint', 'title_clean',\n",
    "       'title_clean_time', 'description_clean', 'description_clean_time'])\n",
    "for file_path in os.listdir(\"dataset/\"):\n",
    "    df = df.append(process_csv(file_path), ignore_index=True)"
   ]
  },
  {
   "cell_type": "code",
   "execution_count": 39,
   "metadata": {},
   "outputs": [
    {
     "output_type": "execute_result",
     "data": {
      "text/plain": [
       "    issuekey                                              title  \\\n",
       "0   TISTUD-6  Add CA against object literals in function inv...   \n",
       "1   TISTUD-9  Update branding for Appcelerator plugin to App...   \n",
       "2  TISTUD-11                Create new JSON schema for SDK team   \n",
       "3  TISTUD-13            Create Project References Property Page   \n",
       "4  TISTUD-16                         New Desktop Project Wizard   \n",
       "\n",
       "                                         description storypoint  \\\n",
       "0  {html}<div><p>The idea here is that if our met...          1   \n",
       "1  {html}<div><p>At least fix feature icons, asso...          1   \n",
       "2  {html}<div><p>Create JSON schema containing pr...          1   \n",
       "3  {html}<div><p>Create property page for project...          1   \n",
       "4  {html}<div><p>Desktop (need to convert existin...          1   \n",
       "\n",
       "                                         title_clean  title_clean_time  \\\n",
       "0  [(add, NN), (ca, MD), (object, VB), (literal, ...          0.000999   \n",
       "1  [(update, JJ), (branding, NN), (appcelerator, ...          0.000993   \n",
       "2  [(create, VB), (new, JJ), (json, NN), (schema,...          0.000999   \n",
       "3  [(create, NN), (project, NN), (reference, NN),...          0.000996   \n",
       "4  [(new, JJ), (desktop, NN), (project, NN), (wiz...          0.000998   \n",
       "\n",
       "                                   description_clean  description_clean_time  \n",
       "0  [(idea, NN), (metadata, NNS), (capture, NN), (...                0.001029  \n",
       "1  [(least, JJS), (fix, JJ), (feature, NN), (icon...                0.001995  \n",
       "2  [(create, NN), (json, NN), (schema, VBD), (con...                0.001994  \n",
       "3  [(create, NN), (property, NN), (page, NN), (pr...                0.001860  \n",
       "4  [(desktop, NN), (need, NN), (convert, VBP), (e...                0.002024  "
      ],
      "text/html": "<div>\n<style scoped>\n    .dataframe tbody tr th:only-of-type {\n        vertical-align: middle;\n    }\n\n    .dataframe tbody tr th {\n        vertical-align: top;\n    }\n\n    .dataframe thead th {\n        text-align: right;\n    }\n</style>\n<table border=\"1\" class=\"dataframe\">\n  <thead>\n    <tr style=\"text-align: right;\">\n      <th></th>\n      <th>issuekey</th>\n      <th>title</th>\n      <th>description</th>\n      <th>storypoint</th>\n      <th>title_clean</th>\n      <th>title_clean_time</th>\n      <th>description_clean</th>\n      <th>description_clean_time</th>\n    </tr>\n  </thead>\n  <tbody>\n    <tr>\n      <th>0</th>\n      <td>TISTUD-6</td>\n      <td>Add CA against object literals in function inv...</td>\n      <td>{html}&lt;div&gt;&lt;p&gt;The idea here is that if our met...</td>\n      <td>1</td>\n      <td>[(add, NN), (ca, MD), (object, VB), (literal, ...</td>\n      <td>0.000999</td>\n      <td>[(idea, NN), (metadata, NNS), (capture, NN), (...</td>\n      <td>0.001029</td>\n    </tr>\n    <tr>\n      <th>1</th>\n      <td>TISTUD-9</td>\n      <td>Update branding for Appcelerator plugin to App...</td>\n      <td>{html}&lt;div&gt;&lt;p&gt;At least fix feature icons, asso...</td>\n      <td>1</td>\n      <td>[(update, JJ), (branding, NN), (appcelerator, ...</td>\n      <td>0.000993</td>\n      <td>[(least, JJS), (fix, JJ), (feature, NN), (icon...</td>\n      <td>0.001995</td>\n    </tr>\n    <tr>\n      <th>2</th>\n      <td>TISTUD-11</td>\n      <td>Create new JSON schema for SDK team</td>\n      <td>{html}&lt;div&gt;&lt;p&gt;Create JSON schema containing pr...</td>\n      <td>1</td>\n      <td>[(create, VB), (new, JJ), (json, NN), (schema,...</td>\n      <td>0.000999</td>\n      <td>[(create, NN), (json, NN), (schema, VBD), (con...</td>\n      <td>0.001994</td>\n    </tr>\n    <tr>\n      <th>3</th>\n      <td>TISTUD-13</td>\n      <td>Create Project References Property Page</td>\n      <td>{html}&lt;div&gt;&lt;p&gt;Create property page for project...</td>\n      <td>1</td>\n      <td>[(create, NN), (project, NN), (reference, NN),...</td>\n      <td>0.000996</td>\n      <td>[(create, NN), (property, NN), (page, NN), (pr...</td>\n      <td>0.001860</td>\n    </tr>\n    <tr>\n      <th>4</th>\n      <td>TISTUD-16</td>\n      <td>New Desktop Project Wizard</td>\n      <td>{html}&lt;div&gt;&lt;p&gt;Desktop (need to convert existin...</td>\n      <td>1</td>\n      <td>[(new, JJ), (desktop, NN), (project, NN), (wiz...</td>\n      <td>0.000998</td>\n      <td>[(desktop, NN), (need, NN), (convert, VBP), (e...</td>\n      <td>0.002024</td>\n    </tr>\n  </tbody>\n</table>\n</div>"
     },
     "metadata": {},
     "execution_count": 39
    }
   ],
   "source": [
    "df.head()"
   ]
  },
  {
   "cell_type": "code",
   "execution_count": 40,
   "metadata": {},
   "outputs": [
    {
     "output_type": "stream",
     "name": "stdout",
     "text": [
      "<class 'pandas.core.frame.DataFrame'>\nRangeIndex: 23313 entries, 0 to 23312\nData columns (total 8 columns):\n #   Column                  Non-Null Count  Dtype  \n---  ------                  --------------  -----  \n 0   issuekey                23313 non-null  object \n 1   title                   23313 non-null  object \n 2   description             21082 non-null  object \n 3   storypoint              23313 non-null  object \n 4   title_clean             23313 non-null  object \n 5   title_clean_time        23313 non-null  float64\n 6   description_clean       23313 non-null  object \n 7   description_clean_time  23313 non-null  float64\ndtypes: float64(2), object(6)\nmemory usage: 1.4+ MB\n"
     ]
    }
   ],
   "source": [
    "df.info()"
   ]
  },
  {
   "cell_type": "code",
   "execution_count": 41,
   "metadata": {},
   "outputs": [],
   "source": [
    "df.to_csv('final/first_combine.csv')\n",
    "dill.dump_session('notebook_env.db')"
   ]
  },
  {
   "cell_type": "code",
   "execution_count": 42,
   "metadata": {},
   "outputs": [
    {
     "output_type": "execute_result",
     "data": {
      "text/plain": [
       "    issuekey                                              title  \\\n",
       "0   TISTUD-6  Add CA against object literals in function inv...   \n",
       "1   TISTUD-9  Update branding for Appcelerator plugin to App...   \n",
       "2  TISTUD-11                Create new JSON schema for SDK team   \n",
       "3  TISTUD-13            Create Project References Property Page   \n",
       "4  TISTUD-16                         New Desktop Project Wizard   \n",
       "\n",
       "                                         description storypoint  \\\n",
       "0  {html}<div><p>The idea here is that if our met...          1   \n",
       "1  {html}<div><p>At least fix feature icons, asso...          1   \n",
       "2  {html}<div><p>Create JSON schema containing pr...          1   \n",
       "3  {html}<div><p>Create property page for project...          1   \n",
       "4  {html}<div><p>Desktop (need to convert existin...          1   \n",
       "\n",
       "                                         title_clean  title_clean_time  \\\n",
       "0  [(add, NN), (ca, MD), (object, VB), (literal, ...          0.000999   \n",
       "1  [(update, JJ), (branding, NN), (appcelerator, ...          0.000993   \n",
       "2  [(create, VB), (new, JJ), (json, NN), (schema,...          0.000999   \n",
       "3  [(create, NN), (project, NN), (reference, NN),...          0.000996   \n",
       "4  [(new, JJ), (desktop, NN), (project, NN), (wiz...          0.000998   \n",
       "\n",
       "                                   description_clean  description_clean_time  \n",
       "0  [(idea, NN), (metadata, NNS), (capture, NN), (...                0.001029  \n",
       "1  [(least, JJS), (fix, JJ), (feature, NN), (icon...                0.001995  \n",
       "2  [(create, NN), (json, NN), (schema, VBD), (con...                0.001994  \n",
       "3  [(create, NN), (property, NN), (page, NN), (pr...                0.001860  \n",
       "4  [(desktop, NN), (need, NN), (convert, VBP), (e...                0.002024  "
      ],
      "text/html": "<div>\n<style scoped>\n    .dataframe tbody tr th:only-of-type {\n        vertical-align: middle;\n    }\n\n    .dataframe tbody tr th {\n        vertical-align: top;\n    }\n\n    .dataframe thead th {\n        text-align: right;\n    }\n</style>\n<table border=\"1\" class=\"dataframe\">\n  <thead>\n    <tr style=\"text-align: right;\">\n      <th></th>\n      <th>issuekey</th>\n      <th>title</th>\n      <th>description</th>\n      <th>storypoint</th>\n      <th>title_clean</th>\n      <th>title_clean_time</th>\n      <th>description_clean</th>\n      <th>description_clean_time</th>\n    </tr>\n  </thead>\n  <tbody>\n    <tr>\n      <th>0</th>\n      <td>TISTUD-6</td>\n      <td>Add CA against object literals in function inv...</td>\n      <td>{html}&lt;div&gt;&lt;p&gt;The idea here is that if our met...</td>\n      <td>1</td>\n      <td>[(add, NN), (ca, MD), (object, VB), (literal, ...</td>\n      <td>0.000999</td>\n      <td>[(idea, NN), (metadata, NNS), (capture, NN), (...</td>\n      <td>0.001029</td>\n    </tr>\n    <tr>\n      <th>1</th>\n      <td>TISTUD-9</td>\n      <td>Update branding for Appcelerator plugin to App...</td>\n      <td>{html}&lt;div&gt;&lt;p&gt;At least fix feature icons, asso...</td>\n      <td>1</td>\n      <td>[(update, JJ), (branding, NN), (appcelerator, ...</td>\n      <td>0.000993</td>\n      <td>[(least, JJS), (fix, JJ), (feature, NN), (icon...</td>\n      <td>0.001995</td>\n    </tr>\n    <tr>\n      <th>2</th>\n      <td>TISTUD-11</td>\n      <td>Create new JSON schema for SDK team</td>\n      <td>{html}&lt;div&gt;&lt;p&gt;Create JSON schema containing pr...</td>\n      <td>1</td>\n      <td>[(create, VB), (new, JJ), (json, NN), (schema,...</td>\n      <td>0.000999</td>\n      <td>[(create, NN), (json, NN), (schema, VBD), (con...</td>\n      <td>0.001994</td>\n    </tr>\n    <tr>\n      <th>3</th>\n      <td>TISTUD-13</td>\n      <td>Create Project References Property Page</td>\n      <td>{html}&lt;div&gt;&lt;p&gt;Create property page for project...</td>\n      <td>1</td>\n      <td>[(create, NN), (project, NN), (reference, NN),...</td>\n      <td>0.000996</td>\n      <td>[(create, NN), (property, NN), (page, NN), (pr...</td>\n      <td>0.001860</td>\n    </tr>\n    <tr>\n      <th>4</th>\n      <td>TISTUD-16</td>\n      <td>New Desktop Project Wizard</td>\n      <td>{html}&lt;div&gt;&lt;p&gt;Desktop (need to convert existin...</td>\n      <td>1</td>\n      <td>[(new, JJ), (desktop, NN), (project, NN), (wiz...</td>\n      <td>0.000998</td>\n      <td>[(desktop, NN), (need, NN), (convert, VBP), (e...</td>\n      <td>0.002024</td>\n    </tr>\n  </tbody>\n</table>\n</div>"
     },
     "metadata": {},
     "execution_count": 42
    }
   ],
   "source": [
    "import dill\n",
    "dill.load_session('notebook_env.db')\n",
    "df.head()"
   ]
  },
  {
   "cell_type": "code",
   "execution_count": 44,
   "metadata": {},
   "outputs": [
    {
     "output_type": "execute_result",
     "data": {
      "text/plain": [
       "'The idea here is that if our metadata captures a type as function arg, we should be able to create an instance of that type as an object literal as an arg to a function invocation. For example:  Ti.UI.createLabel( { <property-ca-here> } ); '"
      ]
     },
     "metadata": {},
     "execution_count": 44
    }
   ],
   "source": [
    "text = BeautifulSoup(df.description[0]).text\n",
    "text = text.replace(\"{html}\", \"\")\n",
    "text"
   ]
  },
  {
   "cell_type": "code",
   "execution_count": null,
   "metadata": {},
   "outputs": [],
   "source": []
  }
 ]
}